{
 "cells": [
  {
   "cell_type": "markdown",
   "metadata": {},
   "source": [
    "Data Source : https://www.kaggle.com/rmisra/news-headlines-dataset-for-sarcasm-detection"
   ]
  },
  {
   "cell_type": "code",
   "execution_count": 1,
   "metadata": {},
   "outputs": [
    {
     "name": "stdout",
     "output_type": "stream",
     "text": [
      "                                        article_link  \\\n",
      "0  https://www.huffingtonpost.com/entry/versace-b...   \n",
      "1  https://www.huffingtonpost.com/entry/roseanne-...   \n",
      "2  https://local.theonion.com/mom-starting-to-fea...   \n",
      "3  https://politics.theonion.com/boehner-just-wan...   \n",
      "4  https://www.huffingtonpost.com/entry/jk-rowlin...   \n",
      "\n",
      "                                            headline  is_sarcastic  \n",
      "0  former versace store clerk sues over secret 'b...             0  \n",
      "1  the 'roseanne' revival catches up to our thorn...             0  \n",
      "2  mom starting to fear son's web series closest ...             1  \n",
      "3  boehner just wants wife to listen, not come up...             1  \n",
      "4  j.k. rowling wishes snape happy birthday in th...             0  \n"
     ]
    }
   ],
   "source": [
    "import pandas as pd\n",
    "\n",
    "  \n",
    "df = pd.read_json(\"Sarcasm_Headlines_Dataset.json\", lines=True)\n",
    "    \n",
    "print(df.head(5))\n"
   ]
  },
  {
   "cell_type": "code",
   "execution_count": 2,
   "metadata": {},
   "outputs": [],
   "source": [
    "from tensorflow.keras.preprocessing.text import Tokenizer\n",
    "from tensorflow.keras.preprocessing.sequence import pad_sequences\n",
    "\n",
    "sentences = df[\"headline\"] # Creating a list of headlines\n",
    "labels = df[\"is_sarcastic\"]"
   ]
  },
  {
   "cell_type": "code",
   "execution_count": 3,
   "metadata": {},
   "outputs": [],
   "source": [
    "#Buliding Classifier\n",
    "vocab_size = 10000\n",
    "embedding_dim = 16\n",
    "max_length = 32\n",
    "trunc_type = 'post'\n",
    "padding_type = 'post'\n",
    "oov_tok = '<OOV>'\n",
    "training_size = 20000\n",
    "\n",
    "#To split the data into training and test set we use the following commands\n",
    "training_sentences = sentences[0:training_size]\n",
    "testing_sentences = sentences[training_size:]\n",
    "training_labels = labels[0:training_size]\n",
    "testing_labels = labels[training_size:]"
   ]
  },
  {
   "cell_type": "code",
   "execution_count": 4,
   "metadata": {},
   "outputs": [],
   "source": [
    "#Tokenizing and padding the dataset\n",
    "tokenizer = Tokenizer(num_words = vocab_size,oov_token = oov_tok)\n",
    "tokenizer.fit_on_texts(training_sentences)\n",
    "word_index = tokenizer.word_index\n",
    "training_sequences = tokenizer.texts_to_sequences(training_sentences)\n",
    "training_padded = pad_sequences(training_sequences,maxlen = max_length,truncating = trunc_type,padding = padding_type)\n",
    "\n",
    "testing_sequences = tokenizer.texts_to_sequences(testing_sentences)\n",
    "testing_padded = pad_sequences(testing_sequences,maxlen = max_length,truncating = trunc_type,padding = padding_type)"
   ]
  },
  {
   "cell_type": "code",
   "execution_count": 5,
   "metadata": {},
   "outputs": [
    {
     "name": "stdout",
     "output_type": "stream",
     "text": [
      "Model: \"sequential\"\n",
      "_________________________________________________________________\n",
      "Layer (type)                 Output Shape              Param #   \n",
      "=================================================================\n",
      "embedding (Embedding)        (None, 32, 16)            160000    \n",
      "_________________________________________________________________\n",
      "global_average_pooling1d (Gl (None, 16)                0         \n",
      "_________________________________________________________________\n",
      "dense (Dense)                (None, 24)                408       \n",
      "_________________________________________________________________\n",
      "dense_1 (Dense)              (None, 1)                 25        \n",
      "=================================================================\n",
      "Total params: 160,433\n",
      "Trainable params: 160,433\n",
      "Non-trainable params: 0\n",
      "_________________________________________________________________\n"
     ]
    }
   ],
   "source": [
    "import tensorflow as tf\n",
    "#Defining the neural network\n",
    "model = tf.keras.Sequential([\n",
    "    tf.keras.layers.Embedding(vocab_size, embedding_dim, input_length = max_length),#key to text sentimental analysis in tensorflow\n",
    "    tf.keras.layers.GlobalAveragePooling1D(),\n",
    "    tf.keras.layers.Dense(24,activation ='relu'),\n",
    "    tf.keras.layers.Dense(1,activation='sigmoid')\n",
    "])\n",
    "model.compile(loss ='binary_crossentropy',optimizer = 'adam',metrics =['accuracy'])\n",
    "model.summary()"
   ]
  },
  {
   "cell_type": "code",
   "execution_count": 6,
   "metadata": {},
   "outputs": [
    {
     "name": "stdout",
     "output_type": "stream",
     "text": [
      "Train on 20000 samples, validate on 6709 samples\n",
      "Epoch 1/40\n",
      "20000/20000 - 3s - loss: 0.5510 - accuracy: 0.7189 - val_loss: 0.3895 - val_accuracy: 0.8348\n",
      "Epoch 2/40\n",
      "20000/20000 - 2s - loss: 0.3052 - accuracy: 0.8763 - val_loss: 0.3428 - val_accuracy: 0.8559\n",
      "Epoch 3/40\n",
      "20000/20000 - 2s - loss: 0.2274 - accuracy: 0.9125 - val_loss: 0.3507 - val_accuracy: 0.8495\n",
      "Epoch 4/40\n",
      "20000/20000 - 2s - loss: 0.1835 - accuracy: 0.9308 - val_loss: 0.3655 - val_accuracy: 0.8520\n",
      "Epoch 5/40\n",
      "20000/20000 - 3s - loss: 0.1511 - accuracy: 0.9449 - val_loss: 0.3967 - val_accuracy: 0.8504\n",
      "Epoch 6/40\n",
      "20000/20000 - 3s - loss: 0.1282 - accuracy: 0.9545 - val_loss: 0.4371 - val_accuracy: 0.8445\n",
      "Epoch 7/40\n",
      "20000/20000 - 3s - loss: 0.1091 - accuracy: 0.9625 - val_loss: 0.4766 - val_accuracy: 0.8413\n",
      "Epoch 8/40\n",
      "20000/20000 - 2s - loss: 0.0944 - accuracy: 0.9685 - val_loss: 0.5197 - val_accuracy: 0.8365\n",
      "Epoch 9/40\n",
      "20000/20000 - 3s - loss: 0.0803 - accuracy: 0.9744 - val_loss: 0.5736 - val_accuracy: 0.8325\n",
      "Epoch 10/40\n",
      "20000/20000 - 3s - loss: 0.0709 - accuracy: 0.9765 - val_loss: 0.6176 - val_accuracy: 0.8311\n",
      "Epoch 11/40\n",
      "20000/20000 - 3s - loss: 0.0609 - accuracy: 0.9806 - val_loss: 0.6686 - val_accuracy: 0.8281\n",
      "Epoch 12/40\n",
      "20000/20000 - 3s - loss: 0.0533 - accuracy: 0.9834 - val_loss: 0.7590 - val_accuracy: 0.8217\n",
      "Epoch 13/40\n",
      "20000/20000 - 3s - loss: 0.0468 - accuracy: 0.9862 - val_loss: 0.8007 - val_accuracy: 0.8174\n",
      "Epoch 14/40\n",
      "20000/20000 - 3s - loss: 0.0413 - accuracy: 0.9882 - val_loss: 0.8407 - val_accuracy: 0.8188\n",
      "Epoch 15/40\n",
      "20000/20000 - 3s - loss: 0.0350 - accuracy: 0.9899 - val_loss: 0.9091 - val_accuracy: 0.8132\n",
      "Epoch 16/40\n",
      "20000/20000 - 3s - loss: 0.0319 - accuracy: 0.9908 - val_loss: 0.9766 - val_accuracy: 0.8132\n",
      "Epoch 17/40\n",
      "20000/20000 - 3s - loss: 0.0271 - accuracy: 0.9925 - val_loss: 1.0467 - val_accuracy: 0.8117\n",
      "Epoch 18/40\n",
      "20000/20000 - 4s - loss: 0.0251 - accuracy: 0.9926 - val_loss: 1.1404 - val_accuracy: 0.8080\n",
      "Epoch 19/40\n",
      "20000/20000 - 3s - loss: 0.0221 - accuracy: 0.9938 - val_loss: 1.1436 - val_accuracy: 0.8111\n",
      "Epoch 20/40\n",
      "20000/20000 - 3s - loss: 0.0192 - accuracy: 0.9942 - val_loss: 1.2080 - val_accuracy: 0.8092\n",
      "Epoch 21/40\n",
      "20000/20000 - 3s - loss: 0.0186 - accuracy: 0.9941 - val_loss: 1.2691 - val_accuracy: 0.8058\n",
      "Epoch 22/40\n",
      "20000/20000 - 3s - loss: 0.0170 - accuracy: 0.9947 - val_loss: 1.3393 - val_accuracy: 0.8071\n",
      "Epoch 23/40\n",
      "20000/20000 - 3s - loss: 0.0141 - accuracy: 0.9962 - val_loss: 1.3946 - val_accuracy: 0.8061\n",
      "Epoch 24/40\n",
      "20000/20000 - 3s - loss: 0.0120 - accuracy: 0.9968 - val_loss: 1.4456 - val_accuracy: 0.8074\n",
      "Epoch 25/40\n",
      "20000/20000 - 3s - loss: 0.0108 - accuracy: 0.9974 - val_loss: 1.4901 - val_accuracy: 0.8074\n",
      "Epoch 26/40\n",
      "20000/20000 - 3s - loss: 0.0100 - accuracy: 0.9972 - val_loss: 1.5657 - val_accuracy: 0.8041\n",
      "Epoch 27/40\n",
      "20000/20000 - 3s - loss: 0.0096 - accuracy: 0.9972 - val_loss: 1.6384 - val_accuracy: 0.8037\n",
      "Epoch 28/40\n",
      "20000/20000 - 3s - loss: 0.0085 - accuracy: 0.9976 - val_loss: 1.7036 - val_accuracy: 0.8038\n",
      "Epoch 29/40\n",
      "20000/20000 - 3s - loss: 0.0104 - accuracy: 0.9966 - val_loss: 1.7578 - val_accuracy: 0.8043\n",
      "Epoch 30/40\n",
      "20000/20000 - 3s - loss: 0.0077 - accuracy: 0.9979 - val_loss: 1.8020 - val_accuracy: 0.8062\n",
      "Epoch 31/40\n",
      "20000/20000 - 3s - loss: 0.0068 - accuracy: 0.9981 - val_loss: 1.8555 - val_accuracy: 0.8044\n",
      "Epoch 32/40\n",
      "20000/20000 - 3s - loss: 0.0075 - accuracy: 0.9974 - val_loss: 1.9210 - val_accuracy: 0.8038\n",
      "Epoch 33/40\n",
      "20000/20000 - 3s - loss: 0.0065 - accuracy: 0.9984 - val_loss: 1.9733 - val_accuracy: 0.8025\n",
      "Epoch 34/40\n",
      "20000/20000 - 3s - loss: 0.0063 - accuracy: 0.9979 - val_loss: 2.0121 - val_accuracy: 0.7994\n",
      "Epoch 35/40\n",
      "20000/20000 - 3s - loss: 0.0053 - accuracy: 0.9984 - val_loss: 2.0880 - val_accuracy: 0.8032\n",
      "Epoch 36/40\n",
      "20000/20000 - 3s - loss: 0.0058 - accuracy: 0.9983 - val_loss: 2.1336 - val_accuracy: 0.8018\n",
      "Epoch 37/40\n",
      "20000/20000 - 3s - loss: 0.0056 - accuracy: 0.9981 - val_loss: 2.2813 - val_accuracy: 0.8007\n",
      "Epoch 38/40\n",
      "20000/20000 - 3s - loss: 0.0059 - accuracy: 0.9979 - val_loss: 2.2424 - val_accuracy: 0.8010\n",
      "Epoch 39/40\n",
      "20000/20000 - 3s - loss: 0.0054 - accuracy: 0.9984 - val_loss: 2.3778 - val_accuracy: 0.8021\n",
      "Epoch 40/40\n",
      "20000/20000 - 4s - loss: 0.0049 - accuracy: 0.9985 - val_loss: 2.3033 - val_accuracy: 0.8006\n"
     ]
    }
   ],
   "source": [
    "#Training the model\n",
    "num_epochs = 40\n",
    "history =model.fit(training_padded, training_labels, epochs = num_epochs, validation_data =(testing_padded, testing_labels),verbose = 2)"
   ]
  },
  {
   "cell_type": "code",
   "execution_count": 8,
   "metadata": {},
   "outputs": [
    {
     "data": {
      "image/png": "[encoded data removed]",
      "text/plain": [
       "<Figure size 432x288 with 2 Axes>"
      ]
     },
     "metadata": {
      "needs_background": "light"
     },
     "output_type": "display_data"
    }
   ],
   "source": [
    "import matplotlib.pyplot as plt\n",
    "\n",
    "def plot_graphs(history,string):\n",
    "    plt.plot(history.history[string])\n",
    "    plt.plot(history.history['val_'+string])\n",
    "    plt.xlabel(\"Epochs\")\n",
    "    plt.ylabel(string)\n",
    "    plt.legend([string,'val_'+string])\n",
    "plt.subplot(1, 2, 1)   \n",
    "plot_graphs(history,\"accuracy\")\n",
    "plt.subplot(1, 2, 2) \n",
    "plot_graphs(history,\"loss\")"
   ]
  },
  {
   "cell_type": "markdown",
   "metadata": {},
   "source": [
    "The accuracy increased but the validation loss increased alot. By changing the parameters we need to identify the optimal hyperparmeters"
   ]
  },
  {
   "cell_type": "code",
   "execution_count": null,
   "metadata": {},
   "outputs": [],
   "source": []
  },
  {
   "cell_type": "code",
   "execution_count": null,
   "metadata": {},
   "outputs": [],
   "source": []
  },
  {
   "cell_type": "code",
   "execution_count": null,
   "metadata": {},
   "outputs": [],
   "source": []
  },
  {
   "cell_type": "code",
   "execution_count": null,
   "metadata": {},
   "outputs": [],
   "source": []
  },
  {
   "cell_type": "code",
   "execution_count": null,
   "metadata": {},
   "outputs": [],
   "source": []
  },
  {
   "cell_type": "code",
   "execution_count": null,
   "metadata": {},
   "outputs": [],
   "source": []
  },
  {
   "cell_type": "code",
   "execution_count": null,
   "metadata": {},
   "outputs": [],
   "source": []
  },
  {
   "cell_type": "code",
   "execution_count": null,
   "metadata": {},
   "outputs": [],
   "source": []
  },
  {
   "cell_type": "code",
   "execution_count": null,
   "metadata": {},
   "outputs": [],
   "source": []
  },
  {
   "cell_type": "code",
   "execution_count": null,
   "metadata": {},
   "outputs": [],
   "source": []
  },
  {
   "cell_type": "code",
   "execution_count": null,
   "metadata": {},
   "outputs": [],
   "source": []
  }
 ],
 "metadata": {
  "kernelspec": {
   "display_name": "Python 3",
   "language": "python",
   "name": "python3"
  },
  "language_info": {
   "codemirror_mode": {
    "name": "ipython",
    "version": 3
   },
   "file_extension": ".py",
   "mimetype": "text/x-python",
   "name": "python",
   "nbconvert_exporter": "python",
   "pygments_lexer": "ipython3",
   "version": "3.7.4"
  }
 },
 "nbformat": 4,
 "nbformat_minor": 2
}
